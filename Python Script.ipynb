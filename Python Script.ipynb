{
 "cells": [
  {
   "cell_type": "code",
   "execution_count": 1,
   "metadata": {},
   "outputs": [
    {
     "name": "stdout",
     "output_type": "stream",
     "text": [
      "CPU times: user 935 ms, sys: 107 ms, total: 1.04 s\n",
      "Wall time: 1.49 s\n"
     ]
    }
   ],
   "source": [
    "%%time\n",
    "\n",
    "import os\n",
    "import boto3\n",
    "import re\n",
    "import json\n",
    "import sagemaker\n",
    "from sagemaker import get_execution_role\n",
    "\n",
    "region = boto3.Session().region_name\n",
    "\n",
    "role = get_execution_role()\n",
    "\n",
    "# bucket='ar-sm-bucket' # put your s3 bucket name here, and create s3 bucket\n",
    "# prefix = 'sagemaker/DEMO-pythonsciptmode'\n",
    "# bucket_path = 'https://s3-{}.amazonaws.com/{}'.format(region,bucket)\n",
    "\n",
    "sess = sagemaker.Session()\n",
    "prefix = 'DEMO-prophetforecasting'\n",
    "\n",
    "data_location = sess.upload_data('abcd.csv', key_prefix=prefix)"
   ]
  },
  {
   "cell_type": "code",
   "execution_count": null,
   "metadata": {},
   "outputs": [],
   "source": [
    "\"\"\"\n",
    "This script is run from a SageMaker Notebook, laptop, or other instance\n",
    "and is used to start the training job. \n",
    "\n",
    "This could be replaced with a Java application, NodeJS calls, or anything\n",
    "else that supports AWS API calls.\n",
    "\"\"\"\n",
    "\n",
    "import argparse\n",
    "import sagemaker\n",
    "from sagemaker.pytorch import PyTorch\n",
    "\n",
    "bucket_name = \"\"\n",
    "\n",
    "env = {\n",
    "    'SAGEMAKER_REQUIREMENTS': 'requirements.txt', # path relative to `source_dir` below.\n",
    "}\n",
    "\n",
    "estimator = PyTorch(entry_point='script.py',\n",
    "                    source_dir='src',\n",
    "                    role=role,\n",
    "                    train_instance_count=1,\n",
    "                    train_instance_type='ml.c5.xlarge',\n",
    "                    output_path='s3://{}/DEMO-prophetforecasting/output'.format(bucket_name))\n",
    "\n",
    "estimator.fit({\n",
    "    'train': data_location\n",
    "})\n",
    "\n",
    "print(\"Saved model to {}\".format(estimator.model_data))\n",
    "\n"
   ]
  },
  {
   "cell_type": "code",
   "execution_count": null,
   "metadata": {},
   "outputs": [],
   "source": []
  }
 ],
 "metadata": {
  "kernelspec": {
   "display_name": "conda_pytorch_p36",
   "language": "python",
   "name": "conda_pytorch_p36"
  },
  "language_info": {
   "codemirror_mode": {
    "name": "ipython",
    "version": 3
   },
   "file_extension": ".py",
   "mimetype": "text/x-python",
   "name": "python",
   "nbconvert_exporter": "python",
   "pygments_lexer": "ipython3",
   "version": "3.6.5"
  }
 },
 "nbformat": 4,
 "nbformat_minor": 2
}
